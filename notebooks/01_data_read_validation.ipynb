{
 "cells": [
  {
   "cell_type": "markdown",
   "id": "48f80632",
   "metadata": {},
   "source": [
    "---\n",
    "### Ler o ficheiro de dados Chicago Crime - em csv usando o spark.read.csv"
   ]
  },
  {
   "cell_type": "code",
   "execution_count": 2,
   "id": "0d859445",
   "metadata": {},
   "outputs": [],
   "source": [
    "from pyspark.sql import SparkSession\n",
    "from pyspark.sql import functions as F, types as T\n",
    "from pathlib import Path\n",
    "\n",
    "data_dir = '../dados/'\n",
    "file_chicago_crime_csv = data_dir + 'chicago_crime.csv'\n"
   ]
  },
  {
   "cell_type": "markdown",
   "id": "1dcbbad1",
   "metadata": {},
   "source": [
    "---\n",
    "### Apresentar o schema do csv"
   ]
  },
  {
   "cell_type": "code",
   "execution_count": 3,
   "id": "f70d8da6",
   "metadata": {},
   "outputs": [
    {
     "name": "stdout",
     "output_type": "stream",
     "text": [
      "root\n",
      " |-- ID: integer (nullable = true)\n",
      " |-- Case_Number: string (nullable = true)\n",
      " |-- Date: string (nullable = true)\n",
      " |-- Block: string (nullable = true)\n",
      " |-- IUCR: string (nullable = true)\n",
      " |-- Primary_Type: string (nullable = true)\n",
      " |-- Description: string (nullable = true)\n",
      " |-- Location_Description: string (nullable = true)\n",
      " |-- Arrest: boolean (nullable = true)\n",
      " |-- Domestic: boolean (nullable = true)\n",
      " |-- Beat: integer (nullable = true)\n",
      " |-- District: integer (nullable = true)\n",
      " |-- Ward: integer (nullable = true)\n",
      " |-- Community_Area: integer (nullable = true)\n",
      " |-- FBI_Code: string (nullable = true)\n",
      " |-- X_Coordinate: integer (nullable = true)\n",
      " |-- Y_Coordinate: integer (nullable = true)\n",
      " |-- Year: integer (nullable = true)\n",
      " |-- Updated_On: string (nullable = true)\n",
      " |-- Latitude: double (nullable = true)\n",
      " |-- Longitude: double (nullable = true)\n",
      " |-- Location: string (nullable = true)\n",
      "\n"
     ]
    }
   ],
   "source": [
    "spark = SparkSession.builder \\\n",
    "    .appName(\"ChicagoCrimeProject\") \\\n",
    "    .config(\"spark.driver.memory\", \"8g\")\\\n",
    "    .config(\"spark.executor.memory\", \"8g\")\\\n",
    "    .getOrCreate()\n",
    "\n",
    "# Lê o CSV\n",
    "df = spark.read.csv(file_chicago_crime_csv, header=True, inferSchema=True)\n",
    "\n",
    "# Renomear colunas\n",
    "for col in df.columns:\n",
    "    novo_nome = col.strip().replace(\" \", \"_\")\n",
    "    df = df.withColumnRenamed(col, novo_nome)\n",
    "\n",
    "# Mostra o esquema e primeiras linhas\n",
    "df.printSchema()\n"
   ]
  },
  {
   "cell_type": "markdown",
   "id": "502b1e65",
   "metadata": {},
   "source": [
    "### Profile Report usando ydata"
   ]
  },
  {
   "cell_type": "code",
   "execution_count": null,
   "id": "46f0e73e",
   "metadata": {},
   "outputs": [
    {
     "data": {
      "application/vnd.jupyter.widget-view+json": {
       "model_id": "414972d45a014af4b95b1de9dc0c53bf",
       "version_major": 2,
       "version_minor": 0
      },
      "text/plain": [
       "Summarize dataset:   0%|          | 0/5 [00:00<?, ?it/s]"
      ]
     },
     "metadata": {},
     "output_type": "display_data"
    }
   ],
   "source": [
    "from ydata_profiling import ProfileReport\n",
    "\n",
    "profile_title = 'chicago_crime'\n",
    "\n",
    "# aqui fazemos um sample mais pequeno pois não é possível com todo o dataset\n",
    "sample_df = df.sample(0.1)\n",
    "\n",
    "profile_report = ProfileReport(\n",
    "    sample_df,\n",
    "    title=profile_title,\n",
    "    infer_dtypes=False,\n",
    "    interactions=None,\n",
    "    missing_diagrams=None,\n",
    "    correlations={\n",
    "        \"auto\": {\"calculate\": False},\n",
    "        \"pearson\": {\"calculate\": False},\n",
    "        \"spearman\": {\"calculate\": False},\n",
    "    },\n",
    "    html={\"inline\": False},  # Desativa a renderização inline de widgets\n",
    ")\n",
    "\n",
    "profile_report_file =  \"../relatorios/profile_chicago_crime_before.html\"\n",
    "profile_report.to_file(Path(profile_report_file))\n",
    "profile_report_file"
   ]
  },
  {
   "cell_type": "markdown",
   "id": "6a7e349d",
   "metadata": {},
   "source": [
    "### Cleanup dos dados\n"
   ]
  },
  {
   "cell_type": "code",
   "execution_count": 4,
   "id": "756c0d5f",
   "metadata": {},
   "outputs": [],
   "source": [
    "# assume raw DataFrame 'raw'\n",
    "df_clean = (df\n",
    "    # 1. cast de datas\n",
    "    .withColumn(\"Date\", F.to_timestamp(\"Date\", \"MM/dd/yyyy HH:mm:ss a\"))\n",
    "    .withColumn(\"Updated_On\", F.to_timestamp(\"Updated_On\", \"MM/dd/yyyy HH:mm:ss a\"))\n",
    "    # 2. zeros -> null\n",
    "    .withColumn(\"Ward\", F.when(F.col(\"Ward\") == 0, None).otherwise(F.col(\"Ward\")).cast(\"int\"))\n",
    "    .withColumn(\"Community_Area\", F.when(F.col(\"Community_Area\") == 0, None)\n",
    "                                   .otherwise(F.col(\"Community_Area\")).cast(\"int\"))\n",
    "    .withColumn(\"X_Coordinate\", F.when(F.col(\"X_Coordinate\") == 0, None)\n",
    "                                  .otherwise(F.col(\"X_Coordinate\")))\n",
    "    .withColumn(\"Y_Coordinate\", F.when(F.col(\"Y_Coordinate\") == 0, None)\n",
    "                                  .otherwise(F.col(\"Y_Coordinate\")))\n",
    "    # 3. normalização de texto\n",
    "    .withColumn(\"Block\", F.upper(F.trim(\"Block\")))\n",
    "    .withColumn(\"Primary_Type\", F.upper(F.trim(\"Primary_Type\")))\n",
    "    .withColumn(\"Description\", F.upper(F.trim(\"Description\")))\n",
    "    .withColumn(\"Location_Description\", F.upper(F.trim(\"Location_Description\")))\n",
    "    # 4. garantir tipos mais seguros\n",
    "    .withColumn(\"ID\", F.col(\"ID\").cast(T.LongType()))  # evita overflow no futuro\n",
    "    # 5. sanity-check de bounding box de Chicago\n",
    "    .filter((F.col(\"Latitude\").isNull()) |\n",
    "            ((F.col(\"Latitude\") > 41.6) & (F.col(\"Latitude\") < 42.1) &\n",
    "             (F.col(\"Longitude\") < -87.5) & (F.col(\"Longitude\") > -87.9)))\n",
    "    # 6. remover duplicados\n",
    "    .dropDuplicates()\n",
    ")\n"
   ]
  },
  {
   "cell_type": "code",
   "execution_count": null,
   "id": "aa63bbb4",
   "metadata": {},
   "outputs": [],
   "source": [
    "# Amostra de 30%\n",
    "df_clean_small = df_clean.sample(fraction=0.1, seed=42)\n",
    "\n",
    "# Guarda em Parquet\n",
    "df_clean.coalesce(4).write.mode(\"overwrite\").parquet(\"../dados/chicago_crime.parquet\")\n",
    "\n",
    "df_clean_small.coalesce(4).write.mode(\"overwrite\").parquet(\"../dados/chicago_crime_small.parquet\")"
   ]
  }
 ],
 "metadata": {
  "kernelspec": {
   "display_name": "vscode_pyspark",
   "language": "python",
   "name": "python3"
  },
  "language_info": {
   "codemirror_mode": {
    "name": "ipython",
    "version": 3
   },
   "file_extension": ".py",
   "mimetype": "text/x-python",
   "name": "python",
   "nbconvert_exporter": "python",
   "pygments_lexer": "ipython3",
   "version": "3.11.11"
  }
 },
 "nbformat": 4,
 "nbformat_minor": 5
}
