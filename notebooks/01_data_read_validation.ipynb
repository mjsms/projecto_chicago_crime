{
 "cells": [
  {
   "cell_type": "markdown",
   "id": "48f80632",
   "metadata": {},
   "source": [
    "---\n",
    "### Ler o ficheiro de dados Chicago Crime - em csv usando o spark.read.csv"
   ]
  },
  {
   "cell_type": "code",
   "execution_count": 1,
   "id": "0d859445",
   "metadata": {},
   "outputs": [],
   "source": [
    "from pyspark.sql import SparkSession\n",
    "from pyspark.sql import functions as F, types as T\n",
    "from pathlib import Path\n",
    "\n",
    "data_dir = '../dados/'\n",
    "file_chicago_crime_csv = data_dir + 'chicago_crime.csv'\n"
   ]
  },
  {
   "cell_type": "markdown",
   "id": "1dcbbad1",
   "metadata": {},
   "source": [
    "---\n",
    "### Apresentar o schema do csv"
   ]
  },
  {
   "cell_type": "code",
   "execution_count": null,
   "id": "f70d8da6",
   "metadata": {},
   "outputs": [
    {
     "name": "stderr",
     "output_type": "stream",
     "text": [
      "ERROR:root:Exception while sending command.\n",
      "Traceback (most recent call last):\n",
      "  File \"/opt/conda/envs/vscode_pyspark/lib/python3.11/site-packages/py4j/clientserver.py\", line 516, in send_command\n",
      "    raise Py4JNetworkError(\"Answer from Java side is empty\")\n",
      "py4j.protocol.Py4JNetworkError: Answer from Java side is empty\n",
      "\n",
      "During handling of the above exception, another exception occurred:\n",
      "\n",
      "Traceback (most recent call last):\n",
      "  File \"/opt/conda/envs/vscode_pyspark/lib/python3.11/site-packages/py4j/java_gateway.py\", line 1038, in send_command\n",
      "    response = connection.send_command(command)\n",
      "               ^^^^^^^^^^^^^^^^^^^^^^^^^^^^^^^^\n",
      "  File \"/opt/conda/envs/vscode_pyspark/lib/python3.11/site-packages/py4j/clientserver.py\", line 539, in send_command\n",
      "    raise Py4JNetworkError(\n",
      "py4j.protocol.Py4JNetworkError: Error while sending or receiving\n"
     ]
    },
    {
     "ename": "Py4JError",
     "evalue": "SparkSession$ does not exist in the JVM",
     "output_type": "error",
     "traceback": [
      "\u001b[0;31m---------------------------------------------------------------------------\u001b[0m",
      "\u001b[0;31mPy4JError\u001b[0m                                 Traceback (most recent call last)",
      "Cell \u001b[0;32mIn[6], line 5\u001b[0m\n\u001b[1;32m      1\u001b[0m spark \u001b[38;5;241m=\u001b[39m \u001b[43mSparkSession\u001b[49m\u001b[38;5;241;43m.\u001b[39;49m\u001b[43mbuilder\u001b[49m\u001b[43m \u001b[49m\u001b[43m\\\u001b[49m\n\u001b[1;32m      2\u001b[0m \u001b[43m    \u001b[49m\u001b[38;5;241;43m.\u001b[39;49m\u001b[43mappName\u001b[49m\u001b[43m(\u001b[49m\u001b[38;5;124;43m\"\u001b[39;49m\u001b[38;5;124;43mChicagoCrimeProject\u001b[39;49m\u001b[38;5;124;43m\"\u001b[39;49m\u001b[43m)\u001b[49m\u001b[43m \u001b[49m\u001b[43m\\\u001b[49m\n\u001b[1;32m      3\u001b[0m \u001b[43m    \u001b[49m\u001b[38;5;241;43m.\u001b[39;49m\u001b[43mconfig\u001b[49m\u001b[43m(\u001b[49m\u001b[38;5;124;43m\"\u001b[39;49m\u001b[38;5;124;43mspark.driver.memory\u001b[39;49m\u001b[38;5;124;43m\"\u001b[39;49m\u001b[43m,\u001b[49m\u001b[43m \u001b[49m\u001b[38;5;124;43m\"\u001b[39;49m\u001b[38;5;124;43m8g\u001b[39;49m\u001b[38;5;124;43m\"\u001b[39;49m\u001b[43m)\u001b[49m\u001b[43m\\\u001b[49m\n\u001b[1;32m      4\u001b[0m \u001b[43m    \u001b[49m\u001b[38;5;241;43m.\u001b[39;49m\u001b[43mconfig\u001b[49m\u001b[43m(\u001b[49m\u001b[38;5;124;43m\"\u001b[39;49m\u001b[38;5;124;43mspark.executor.memory\u001b[39;49m\u001b[38;5;124;43m\"\u001b[39;49m\u001b[43m,\u001b[49m\u001b[43m \u001b[49m\u001b[38;5;124;43m\"\u001b[39;49m\u001b[38;5;124;43m8g\u001b[39;49m\u001b[38;5;124;43m\"\u001b[39;49m\u001b[43m)\u001b[49m\u001b[43m\\\u001b[49m\n\u001b[0;32m----> 5\u001b[0m \u001b[43m    \u001b[49m\u001b[38;5;241;43m.\u001b[39;49m\u001b[43mgetOrCreate\u001b[49m\u001b[43m(\u001b[49m\u001b[43m)\u001b[49m\n\u001b[1;32m      7\u001b[0m \u001b[38;5;66;03m# Lê o CSV\u001b[39;00m\n\u001b[1;32m      8\u001b[0m df \u001b[38;5;241m=\u001b[39m spark\u001b[38;5;241m.\u001b[39mread\u001b[38;5;241m.\u001b[39mcsv(file_chicago_crime_csv, header\u001b[38;5;241m=\u001b[39m\u001b[38;5;28;01mTrue\u001b[39;00m, inferSchema\u001b[38;5;241m=\u001b[39m\u001b[38;5;28;01mTrue\u001b[39;00m)\n",
      "File \u001b[0;32m/opt/conda/envs/vscode_pyspark/lib/python3.11/site-packages/pyspark/sql/session.py:503\u001b[0m, in \u001b[0;36mSparkSession.Builder.getOrCreate\u001b[0;34m(self)\u001b[0m\n\u001b[1;32m    500\u001b[0m     session \u001b[38;5;241m=\u001b[39m SparkSession(sc, options\u001b[38;5;241m=\u001b[39m\u001b[38;5;28mself\u001b[39m\u001b[38;5;241m.\u001b[39m_options)\n\u001b[1;32m    501\u001b[0m \u001b[38;5;28;01melse\u001b[39;00m:\n\u001b[1;32m    502\u001b[0m     \u001b[38;5;28mgetattr\u001b[39m(\n\u001b[0;32m--> 503\u001b[0m         \u001b[38;5;28;43mgetattr\u001b[39;49m\u001b[43m(\u001b[49m\u001b[43msession\u001b[49m\u001b[38;5;241;43m.\u001b[39;49m\u001b[43m_jvm\u001b[49m\u001b[43m,\u001b[49m\u001b[43m \u001b[49m\u001b[38;5;124;43m\"\u001b[39;49m\u001b[38;5;124;43mSparkSession$\u001b[39;49m\u001b[38;5;124;43m\"\u001b[39;49m\u001b[43m)\u001b[49m, \u001b[38;5;124m\"\u001b[39m\u001b[38;5;124mMODULE$\u001b[39m\u001b[38;5;124m\"\u001b[39m\n\u001b[1;32m    504\u001b[0m     )\u001b[38;5;241m.\u001b[39mapplyModifiableSettings(session\u001b[38;5;241m.\u001b[39m_jsparkSession, \u001b[38;5;28mself\u001b[39m\u001b[38;5;241m.\u001b[39m_options)\n\u001b[1;32m    505\u001b[0m \u001b[38;5;28;01mreturn\u001b[39;00m session\n",
      "File \u001b[0;32m/opt/conda/envs/vscode_pyspark/lib/python3.11/site-packages/py4j/java_gateway.py:1725\u001b[0m, in \u001b[0;36mJVMView.__getattr__\u001b[0;34m(self, name)\u001b[0m\n\u001b[1;32m   1722\u001b[0m _, error_message \u001b[38;5;241m=\u001b[39m get_error_message(answer)\n\u001b[1;32m   1723\u001b[0m message \u001b[38;5;241m=\u001b[39m compute_exception_message(\n\u001b[1;32m   1724\u001b[0m     \u001b[38;5;124m\"\u001b[39m\u001b[38;5;132;01m{0}\u001b[39;00m\u001b[38;5;124m does not exist in the JVM\u001b[39m\u001b[38;5;124m\"\u001b[39m\u001b[38;5;241m.\u001b[39mformat(name), error_message)\n\u001b[0;32m-> 1725\u001b[0m \u001b[38;5;28;01mraise\u001b[39;00m Py4JError(message)\n",
      "\u001b[0;31mPy4JError\u001b[0m: SparkSession$ does not exist in the JVM"
     ]
    },
    {
     "name": "stderr",
     "output_type": "stream",
     "text": [
      "ERROR:root:Exception while sending command.\n",
      "Traceback (most recent call last):\n",
      "  File \"/opt/conda/envs/vscode_pyspark/lib/python3.11/site-packages/py4j/clientserver.py\", line 516, in send_command\n",
      "    raise Py4JNetworkError(\"Answer from Java side is empty\")\n",
      "py4j.protocol.Py4JNetworkError: Answer from Java side is empty\n",
      "\n",
      "During handling of the above exception, another exception occurred:\n",
      "\n",
      "Traceback (most recent call last):\n",
      "  File \"/opt/conda/envs/vscode_pyspark/lib/python3.11/site-packages/py4j/java_gateway.py\", line 1038, in send_command\n",
      "    response = connection.send_command(command)\n",
      "               ^^^^^^^^^^^^^^^^^^^^^^^^^^^^^^^^\n",
      "  File \"/opt/conda/envs/vscode_pyspark/lib/python3.11/site-packages/py4j/clientserver.py\", line 539, in send_command\n",
      "    raise Py4JNetworkError(\n",
      "py4j.protocol.Py4JNetworkError: Error while sending or receiving\n"
     ]
    }
   ],
   "source": [
    "spark = SparkSession.builder \\\n",
    "    .appName(\"ChicagoCrimeProject\") \\\n",
    "    .config(\"spark.driver.memory\", \"8g\")\\\n",
    "    .config(\"spark.executor.memory\", \"8g\")\\\n",
    "    .getOrCreate()\n",
    "\n",
    "# Lê o CSV\n",
    "df = spark.read.csv(file_chicago_crime_csv, header=True, inferSchema=True)\n",
    "\n",
    "# Renomear colunas\n",
    "for col in df.columns:\n",
    "    novo_nome = col.strip().replace(\" \", \"_\")\n",
    "    df = df.withColumnRenamed(col, novo_nome)\n",
    "\n",
    "# Mostra o esquema e primeiras linhas\n",
    "df.printSchema()\n"
   ]
  },
  {
   "cell_type": "markdown",
   "id": "502b1e65",
   "metadata": {},
   "source": [
    "### Profile Report usando ydata"
   ]
  },
  {
   "cell_type": "code",
   "execution_count": 4,
   "id": "46f0e73e",
   "metadata": {},
   "outputs": [
    {
     "data": {
      "application/vnd.jupyter.widget-view+json": {
       "model_id": "414972d45a014af4b95b1de9dc0c53bf",
       "version_major": 2,
       "version_minor": 0
      },
      "text/plain": [
       "Summarize dataset:   0%|          | 0/5 [00:00<?, ?it/s]"
      ]
     },
     "metadata": {},
     "output_type": "display_data"
    },
    {
     "data": {
      "application/vnd.jupyter.widget-view+json": {
       "model_id": "a955dc748f624cdb9e3837e93f9991f3",
       "version_major": 2,
       "version_minor": 0
      },
      "text/plain": [
       "Generate report structure:   0%|          | 0/1 [00:00<?, ?it/s]"
      ]
     },
     "metadata": {},
     "output_type": "display_data"
    },
    {
     "data": {
      "application/vnd.jupyter.widget-view+json": {
       "model_id": "1f666fc47858448dae23c0ddfeed3009",
       "version_major": 2,
       "version_minor": 0
      },
      "text/plain": [
       "Render HTML:   0%|          | 0/1 [00:00<?, ?it/s]"
      ]
     },
     "metadata": {},
     "output_type": "display_data"
    },
    {
     "data": {
      "application/vnd.jupyter.widget-view+json": {
       "model_id": "65a2a9b9c50b4b22a508111a14aa46bd",
       "version_major": 2,
       "version_minor": 0
      },
      "text/plain": [
       "Export report to file:   0%|          | 0/1 [00:00<?, ?it/s]"
      ]
     },
     "metadata": {},
     "output_type": "display_data"
    },
    {
     "data": {
      "text/plain": [
       "'../relatorios/profile_chicago_crime_before.html'"
      ]
     },
     "execution_count": 4,
     "metadata": {},
     "output_type": "execute_result"
    }
   ],
   "source": [
    "from ydata_profiling import ProfileReport\n",
    "\n",
    "profile_title = 'chicago_crime'\n",
    "\n",
    "# aqui fazemos um sample mais pequeno pois não é possível com todo o dataset\n",
    "sample_df = df.sample(0.1)\n",
    "\n",
    "profile_report = ProfileReport(\n",
    "    sample_df,\n",
    "    title=profile_title,\n",
    "    infer_dtypes=False,\n",
    "    interactions=None,\n",
    "    missing_diagrams=None,\n",
    "    correlations={\n",
    "        \"auto\": {\"calculate\": False},\n",
    "        \"pearson\": {\"calculate\": False},\n",
    "        \"spearman\": {\"calculate\": False},\n",
    "    },\n",
    "    html={\"inline\": False},  # Desativa a renderização inline de widgets\n",
    ")\n",
    "\n",
    "profile_report_file =  \"../relatorios/profile_chicago_crime_before.html\"\n",
    "profile_report.to_file(Path(profile_report_file))\n",
    "profile_report_file"
   ]
  },
  {
   "cell_type": "markdown",
   "id": "6a7e349d",
   "metadata": {},
   "source": [
    "### Cleanup dos dados\n"
   ]
  },
  {
   "cell_type": "code",
   "execution_count": 4,
   "id": "756c0d5f",
   "metadata": {},
   "outputs": [],
   "source": [
    "# assume raw DataFrame 'raw'\n",
    "df_clean = (df\n",
    "    # 1. cast de datas\n",
    "    .withColumn(\"Date\", F.to_timestamp(\"Date\", \"MM/dd/yyyy HH:mm:ss a\"))\n",
    "    .withColumn(\"Updated_On\", F.to_timestamp(\"Updated_On\", \"MM/dd/yyyy HH:mm:ss a\"))\n",
    "    # 2. zeros -> null\n",
    "    .withColumn(\"Ward\", F.when(F.col(\"Ward\") == 0, None).otherwise(F.col(\"Ward\")).cast(\"int\"))\n",
    "    .withColumn(\"Community_Area\", F.when(F.col(\"Community_Area\") == 0, None)\n",
    "                                   .otherwise(F.col(\"Community_Area\")).cast(\"int\"))\n",
    "    .withColumn(\"X_Coordinate\", F.when(F.col(\"X_Coordinate\") == 0, None)\n",
    "                                  .otherwise(F.col(\"X_Coordinate\")))\n",
    "    .withColumn(\"Y_Coordinate\", F.when(F.col(\"Y_Coordinate\") == 0, None)\n",
    "                                  .otherwise(F.col(\"Y_Coordinate\")))\n",
    "    # 3. normalização de texto\n",
    "    .withColumn(\"Block\", F.upper(F.trim(\"Block\")))\n",
    "    .withColumn(\"Primary_Type\", F.upper(F.trim(\"Primary_Type\")))\n",
    "    .withColumn(\"Description\", F.upper(F.trim(\"Description\")))\n",
    "    .withColumn(\"Location_Description\", F.upper(F.trim(\"Location_Description\")))\n",
    "    # 4. garantir tipos mais seguros\n",
    "    .withColumn(\"ID\", F.col(\"ID\").cast(T.LongType()))  # evita overflow no futuro\n",
    "    # 5. sanity-check de bounding box de Chicago\n",
    "    .filter((F.col(\"Latitude\").isNull()) |\n",
    "            ((F.col(\"Latitude\") > 41.6) & (F.col(\"Latitude\") < 42.1) &\n",
    "             (F.col(\"Longitude\") < -87.5) & (F.col(\"Longitude\") > -87.9)))\n",
    "    # 6. remover duplicados\n",
    "    .dropDuplicates()\n",
    ")\n"
   ]
  },
  {
   "cell_type": "code",
   "execution_count": null,
   "id": "aa63bbb4",
   "metadata": {},
   "outputs": [],
   "source": [
    "# Amostra de 10%\n",
    "df_clean_small = df_clean.sample(fraction=0.1, seed=42)\n",
    "\n",
    "# Guarda em Parquet\n",
    "df_clean.coalesce(4).write.mode(\"overwrite\").parquet(\"../dados/chicago_crime.parquet\")\n",
    "\n",
    "df_clean_small.coalesce(4).write.mode(\"overwrite\").parquet(\"../dados/chicago_crime_small.parquet\")"
   ]
  }
 ],
 "metadata": {
  "kernelspec": {
   "display_name": "vscode_pyspark",
   "language": "python",
   "name": "python3"
  },
  "language_info": {
   "codemirror_mode": {
    "name": "ipython",
    "version": 3
   },
   "file_extension": ".py",
   "mimetype": "text/x-python",
   "name": "python",
   "nbconvert_exporter": "python",
   "pygments_lexer": "ipython3",
   "version": "undefined.undefined.undefined"
  }
 },
 "nbformat": 4,
 "nbformat_minor": 5
}
